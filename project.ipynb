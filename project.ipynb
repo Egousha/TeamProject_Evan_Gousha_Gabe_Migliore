{
 "cells": [
  {
   "cell_type": "code",
   "execution_count": null,
   "id": "61f16775",
   "metadata": {},
   "outputs": [],
   "source": [
    "import numpy as np\n",
    "import matplotlib.pyplot as plt\n",
    "import pandas as pd\n",
    "import seaborn as sns\n",
    "import statsmodels.api as sm"
   ]
  },
  {
   "cell_type": "code",
   "execution_count": null,
   "id": "916d45a6",
   "metadata": {},
   "outputs": [],
   "source": [
    "data= pd.read_csv('WineQT.csv')\n",
    "data.head()"
   ]
  },
  {
   "cell_type": "code",
   "execution_count": null,
   "id": "55043738",
   "metadata": {},
   "outputs": [],
   "source": [
    "data.isnull().sum()"
   ]
  },
  {
   "cell_type": "code",
   "execution_count": null,
   "id": "b103c60d",
   "metadata": {},
   "outputs": [],
   "source": [
    "data.describe()"
   ]
  },
  {
   "cell_type": "code",
   "execution_count": null,
   "id": "7f91f2cf",
   "metadata": {},
   "outputs": [],
   "source": [
    "data.info()"
   ]
  },
  {
   "cell_type": "code",
   "execution_count": null,
   "id": "2ff08ec2",
   "metadata": {
    "scrolled": true
   },
   "outputs": [],
   "source": [
    "data.drop(['Id'],axis=1, inplace=True)"
   ]
  },
  {
   "cell_type": "code",
   "execution_count": null,
   "id": "0a417799",
   "metadata": {
    "scrolled": true
   },
   "outputs": [],
   "source": [
    "data.info()"
   ]
  },
  {
   "cell_type": "code",
   "execution_count": null,
   "id": "2265b24e",
   "metadata": {},
   "outputs": [],
   "source": [
    "sns.distplot(data['fixed acidity'])"
   ]
  },
  {
   "cell_type": "code",
   "execution_count": null,
   "id": "7fc1b4c6",
   "metadata": {},
   "outputs": [],
   "source": [
    "sns.distplot(data['volatile acidity'])"
   ]
  },
  {
   "cell_type": "code",
   "execution_count": null,
   "id": "3181e6e5",
   "metadata": {},
   "outputs": [],
   "source": [
    "sns.distplot(data['citric acid'])"
   ]
  },
  {
   "cell_type": "code",
   "execution_count": null,
   "id": "4196e33a",
   "metadata": {},
   "outputs": [],
   "source": [
    "sns.distplot(data['residual sugar'])"
   ]
  },
  {
   "cell_type": "code",
   "execution_count": null,
   "id": "2faeffd3",
   "metadata": {},
   "outputs": [],
   "source": [
    "sns.distplot(data['chlorides'])"
   ]
  },
  {
   "cell_type": "code",
   "execution_count": null,
   "id": "a1ee8a2e",
   "metadata": {},
   "outputs": [],
   "source": [
    "sns.distplot(data['free sulfur dioxide'])"
   ]
  },
  {
   "cell_type": "code",
   "execution_count": null,
   "id": "e57ae76b",
   "metadata": {},
   "outputs": [],
   "source": [
    "p = sns.distplot(data['total sulfur dioxide'])\n",
    "p.set_title(\"total sulfur dioxide\")\n"
   ]
  },
  {
   "cell_type": "code",
   "execution_count": null,
   "id": "fc357d77",
   "metadata": {},
   "outputs": [],
   "source": [
    "sns.distplot(data['density'])"
   ]
  },
  {
   "cell_type": "code",
   "execution_count": null,
   "id": "df1b391c",
   "metadata": {},
   "outputs": [],
   "source": [
    "sns.distplot(data['pH'])"
   ]
  },
  {
   "cell_type": "code",
   "execution_count": null,
   "id": "7590ccca",
   "metadata": {},
   "outputs": [],
   "source": [
    "sns.distplot(data['sulphates'])"
   ]
  },
  {
   "cell_type": "code",
   "execution_count": null,
   "id": "5eb35db8",
   "metadata": {},
   "outputs": [],
   "source": [
    "sns.distplot(data['alcohol'])"
   ]
  },
  {
   "cell_type": "code",
   "execution_count": null,
   "id": "293ba114",
   "metadata": {},
   "outputs": [],
   "source": [
    "sns.distplot(data['quality'])"
   ]
  },
  {
   "cell_type": "code",
   "execution_count": null,
   "id": "eac41f6f",
   "metadata": {
    "scrolled": true
   },
   "outputs": [],
   "source": [
    "data.sample(10)"
   ]
  },
  {
   "cell_type": "code",
   "execution_count": null,
   "id": "1b48506c",
   "metadata": {},
   "outputs": [],
   "source": [
    "dataLR=data\n",
    "dataSVR=data\n",
    "dataDT=data\n",
    "dataRF=data"
   ]
  },
  {
   "cell_type": "code",
   "execution_count": null,
   "id": "b05a5272",
   "metadata": {},
   "outputs": [],
   "source": [
    "#linear regression"
   ]
  },
  {
   "cell_type": "code",
   "execution_count": null,
   "id": "211c063b",
   "metadata": {},
   "outputs": [],
   "source": [
    "X=dataLR[['fixed acidity','volatile acidity','citric acid','residual sugar','chlorides','free sulfur dioxide',\n",
    "          'total sulfur dioxide', 'density', 'pH', 'sulphates', 'alcohol']]\n",
    "y=dataLR[['quality']]"
   ]
  },
  {
   "cell_type": "code",
   "execution_count": null,
   "id": "944c8e70",
   "metadata": {},
   "outputs": [],
   "source": [
    "from sklearn.model_selection import train_test_split\n",
    "X_train, X_test, y_train, y_test = train_test_split(X, y, test_size = 0.19, random_state = 0)"
   ]
  },
  {
   "cell_type": "code",
   "execution_count": null,
   "id": "8eea2ce3",
   "metadata": {},
   "outputs": [],
   "source": [
    "from sklearn.linear_model import LinearRegression\n",
    "regressor=LinearRegression()\n",
    "regressor.fit(X_train,y_train)"
   ]
  },
  {
   "cell_type": "code",
   "execution_count": null,
   "id": "165ebc48",
   "metadata": {},
   "outputs": [],
   "source": [
    "y_pred=regressor.predict(X_test)"
   ]
  },
  {
   "cell_type": "code",
   "execution_count": null,
   "id": "97a109b2",
   "metadata": {},
   "outputs": [],
   "source": [
    "#case1\n",
    "regressor.predict([[7.5, 0.770,0.2,8.1,0.098,30.0,92.0,0.99892,3.20,0.58,9.2]])"
   ]
  },
  {
   "cell_type": "code",
   "execution_count": null,
   "id": "c3d0315d",
   "metadata": {},
   "outputs": [],
   "source": [
    "#case2\n",
    "regressor.predict([[6.8,0.570,0.00,2.5,0.072,32.0,64.0,0.99491,3.43,0.56,11.2]])"
   ]
  },
  {
   "cell_type": "code",
   "execution_count": null,
   "id": "ffe64678",
   "metadata": {},
   "outputs": [],
   "source": [
    "#case3\n",
    "regressor.predict([[7.7,0.580,0.01,1.8,0.088,12.0,18.0,0.99568,3.32,0.56,10.5]])"
   ]
  },
  {
   "cell_type": "code",
   "execution_count": null,
   "id": "57781046",
   "metadata": {},
   "outputs": [],
   "source": [
    "#case4\n",
    "regressor.predict([[7.2,0.635,0.07,2.6,0.077,16.0,86.0,0.99748,3.51,0.54,9.7]])"
   ]
  },
  {
   "cell_type": "code",
   "execution_count": null,
   "id": "6a77f1cc",
   "metadata": {},
   "outputs": [],
   "source": [
    "#case5\n",
    "regressor.predict([[7.5,0.410,0.15,3.7,0.104,29.0,94.0,0.99786,3.14,0.58,9.1]])"
   ]
  },
  {
   "cell_type": "code",
   "execution_count": null,
   "id": "b57b5eb2",
   "metadata": {},
   "outputs": [],
   "source": [
    "#case6\n",
    "regressor.predict([[15.9,0.360,0.65,7.5,0.096,22.0,71.0,0.99760,2.98,0.84,14.9]])"
   ]
  },
  {
   "cell_type": "code",
   "execution_count": null,
   "id": "57ab6110",
   "metadata": {},
   "outputs": [],
   "source": [
    "#case7\n",
    "regressor.predict([[11.4,0.625,0.66,6.2,0.088,6.0,24.0,0.99880,3.11,0.99,13.3]])"
   ]
  },
  {
   "cell_type": "code",
   "execution_count": null,
   "id": "bb4e85b7",
   "metadata": {},
   "outputs": [],
   "source": [
    "#case8\n",
    "regressor.predict([[8.0,0.300,0.63,1.6,0.081,16.0,29.0,0.99588,3.30,0.78,10.8]])"
   ]
  },
  {
   "cell_type": "code",
   "execution_count": null,
   "id": "6769049e",
   "metadata": {},
   "outputs": [],
   "source": [
    "#case9\n",
    "regressor.predict([[6.2,0.580,0.00,1.6,0.065,8.0,18.0,0.99660,3.56,0.84,9.4]])"
   ]
  },
  {
   "cell_type": "code",
   "execution_count": null,
   "id": "0e80eeb2",
   "metadata": {},
   "outputs": [],
   "source": [
    "#case10\n",
    "regressor.predict([[5.6,0.605,0.05,2.4,0.073,19.0,25.0,0.99258,3.56,0.55,12.9]])"
   ]
  },
  {
   "cell_type": "code",
   "execution_count": null,
   "id": "3348d168",
   "metadata": {},
   "outputs": [],
   "source": [
    "from sklearn.metrics import mean_squared_error as msc\n",
    "from math import sqrt\n",
    "rms=sqrt(msc(y_test,y_pred))\n",
    "print(rms)"
   ]
  },
  {
   "cell_type": "code",
   "execution_count": null,
   "id": "4ae09066",
   "metadata": {},
   "outputs": [],
   "source": [
    "from sklearn.metrics import r2_score\n",
    "print('R-Square', r2_score(y_test,y_pred))"
   ]
  },
  {
   "cell_type": "code",
   "execution_count": null,
   "id": "e779741b",
   "metadata": {},
   "outputs": [],
   "source": [
    "#Support Vector Regression"
   ]
  },
  {
   "cell_type": "code",
   "execution_count": null,
   "id": "76bf7c3d",
   "metadata": {},
   "outputs": [],
   "source": [
    "X=dataSVR[['fixed acidity','volatile acidity','citric acid','residual sugar','chlorides','free sulfur dioxide',\n",
    "          'total sulfur dioxide', 'density', 'pH', 'sulphates', 'alcohol']]\n",
    "y=dataSVR[['quality']]\n",
    "from sklearn.model_selection import train_test_split\n",
    "X_train, X_test, y_train, y_test = train_test_split(X, y, test_size = 0.19, random_state = 0)"
   ]
  },
  {
   "cell_type": "code",
   "execution_count": null,
   "id": "3a65c3f0",
   "metadata": {},
   "outputs": [],
   "source": [
    "from sklearn.preprocessing import StandardScaler\n",
    "sc_X=StandardScaler()\n",
    "sc_y=StandardScaler()\n",
    "X_train=sc_X.fit_transform(X_train)\n",
    "y_train=sc_y.fit_transform(y_train)"
   ]
  },
  {
   "cell_type": "code",
   "execution_count": null,
   "id": "876ee672",
   "metadata": {},
   "outputs": [],
   "source": [
    "from sklearn.svm import SVR\n",
    "regressor=SVR(kernel='rbf')\n",
    "regressor.fit(X_train,y_train)"
   ]
  },
  {
   "cell_type": "code",
   "execution_count": null,
   "id": "637b67b7",
   "metadata": {},
   "outputs": [],
   "source": [
    "y_pred=sc_y.inverse_transform(regressor.predict(sc_X.transform(X_test)).reshape(-1,1))"
   ]
  },
  {
   "cell_type": "code",
   "execution_count": null,
   "id": "0c0161a3",
   "metadata": {},
   "outputs": [],
   "source": [
    "#case1\n",
    "sc_y.inverse_transform(regressor.predict(sc_X.transform([[7.5, 0.770,0.2,8.1,0.098,30.0,92.0,0.99892,3.20,0.58,9.2]])).reshape(-1,1))"
   ]
  },
  {
   "cell_type": "code",
   "execution_count": null,
   "id": "21a15bce",
   "metadata": {},
   "outputs": [],
   "source": [
    "#case2\n",
    "sc_y.inverse_transform(regressor.predict(sc_X.transform([[6.8,0.570,0.00,2.5,0.072,32.0,64.0,0.99491,3.43,0.56,11.2]])).reshape(-1,1))"
   ]
  },
  {
   "cell_type": "code",
   "execution_count": null,
   "id": "88ad65de",
   "metadata": {},
   "outputs": [],
   "source": [
    "#case3\n",
    "sc_y.inverse_transform(regressor.predict(sc_X.transform([[7.7,0.580,0.01,1.8,0.088,12.0,18.0,0.99568,3.32,0.56,10.5]])).reshape(-1,1))"
   ]
  },
  {
   "cell_type": "code",
   "execution_count": null,
   "id": "e2028ce3",
   "metadata": {},
   "outputs": [],
   "source": [
    "#case4\n",
    "sc_y.inverse_transform(regressor.predict(sc_X.transform([[7.2,0.635,0.07,2.6,0.077,16.0,86.0,0.99748,3.51,0.54,9.7]])).reshape(-1,1))"
   ]
  },
  {
   "cell_type": "code",
   "execution_count": null,
   "id": "a9ce861f",
   "metadata": {},
   "outputs": [],
   "source": [
    "#case 5\n",
    "sc_y.inverse_transform(regressor.predict(sc_X.transform([[7.5,0.410,0.15,3.7,0.104,29.0,94.0,0.99786,3.14,0.58,9.1]])).reshape(-1,1))"
   ]
  },
  {
   "cell_type": "code",
   "execution_count": null,
   "id": "a72468b6",
   "metadata": {},
   "outputs": [],
   "source": [
    "#case6\n",
    "sc_y.inverse_transform(regressor.predict(sc_X.transform([[15.9,0.360,0.65,7.5,0.096,22.0,71.0,0.99760,2.98,0.84,14.9]])).reshape(-1,1))"
   ]
  },
  {
   "cell_type": "code",
   "execution_count": null,
   "id": "a2fd895b",
   "metadata": {},
   "outputs": [],
   "source": [
    "#case7\n",
    "sc_y.inverse_transform(regressor.predict(sc_X.transform([[11.4,0.625,0.66,6.2,0.088,6.0,24.0,0.99880,3.11,0.99,13.3]])).reshape(-1,1))"
   ]
  },
  {
   "cell_type": "code",
   "execution_count": null,
   "id": "37f36bb3",
   "metadata": {},
   "outputs": [],
   "source": [
    "#case8\n",
    "sc_y.inverse_transform(regressor.predict(sc_X.transform([[8.0,0.300,0.63,1.6,0.081,16.0,29.0,0.99588,3.30,0.78,10.8]])).reshape(-1,1))"
   ]
  },
  {
   "cell_type": "code",
   "execution_count": null,
   "id": "047a3d6d",
   "metadata": {},
   "outputs": [],
   "source": [
    "#case9\n",
    "sc_y.inverse_transform(regressor.predict(sc_X.transform([[6.2,0.580,0.00,1.6,0.065,8.0,18.0,0.99660,3.56,0.84,9.4]])).reshape(-1,1))"
   ]
  },
  {
   "cell_type": "code",
   "execution_count": null,
   "id": "ffdfacc2",
   "metadata": {},
   "outputs": [],
   "source": [
    "#case10\n",
    "sc_y.inverse_transform(regressor.predict(sc_X.transform([[5.6,0.605,0.05,2.4,0.073,19.0,25.0,0.99258,3.56,0.55,12.9]])).reshape(-1,1))"
   ]
  },
  {
   "cell_type": "code",
   "execution_count": null,
   "id": "0a435394",
   "metadata": {},
   "outputs": [],
   "source": [
    "from sklearn.metrics import mean_squared_error as msc\n",
    "from math import sqrt\n",
    "rms=sqrt(msc(y_test,y_pred))\n",
    "print(rms)\n"
   ]
  },
  {
   "cell_type": "code",
   "execution_count": null,
   "id": "5f44e9fa",
   "metadata": {},
   "outputs": [],
   "source": [
    "from sklearn.metrics import r2_score\n",
    "print('R-Square', r2_score(y_test,y_pred))"
   ]
  },
  {
   "cell_type": "code",
   "execution_count": null,
   "id": "410e1ed0",
   "metadata": {},
   "outputs": [],
   "source": [
    "#decision tree"
   ]
  },
  {
   "cell_type": "code",
   "execution_count": null,
   "id": "6037d89f",
   "metadata": {},
   "outputs": [],
   "source": [
    "X=dataDT[['fixed acidity','volatile acidity','citric acid','residual sugar','chlorides','free sulfur dioxide',\n",
    "          'total sulfur dioxide', 'density', 'pH', 'sulphates', 'alcohol']]\n",
    "y=dataDT[['quality']]\n",
    "from sklearn.model_selection import train_test_split\n",
    "X_train, X_test, y_train, y_test = train_test_split(X, y, test_size = 0.19, random_state = 0)"
   ]
  },
  {
   "cell_type": "code",
   "execution_count": null,
   "id": "30f05d97",
   "metadata": {},
   "outputs": [],
   "source": [
    "from sklearn.tree import DecisionTreeRegressor\n",
    "from sklearn.tree import plot_tree\n",
    "regressor=DecisionTreeRegressor(random_state=0)\n",
    "regressor.fit(X_train,y_train)"
   ]
  },
  {
   "cell_type": "code",
   "execution_count": null,
   "id": "f40563ee",
   "metadata": {},
   "outputs": [],
   "source": [
    "y_pred=regressor.predict(X_train)"
   ]
  },
  {
   "cell_type": "code",
   "execution_count": null,
   "id": "51673afa",
   "metadata": {},
   "outputs": [],
   "source": [
    "#case1\n",
    "regressor.predict([[7.5, 0.770,0.2,8.1,0.098,30.0,92.0,0.99892,3.20,0.58,9.2]])"
   ]
  },
  {
   "cell_type": "code",
   "execution_count": null,
   "id": "77da0f50",
   "metadata": {},
   "outputs": [],
   "source": [
    "#case2\n",
    "regressor.predict([[6.8,0.570,0.00,2.5,0.072,32.0,64.0,0.99491,3.43,0.56,11.2]])"
   ]
  },
  {
   "cell_type": "code",
   "execution_count": null,
   "id": "edd3ee7a",
   "metadata": {},
   "outputs": [],
   "source": [
    "#case3\n",
    "regressor.predict([[7.7,0.580,0.01,1.8,0.088,12.0,18.0,0.99568,3.32,0.56,10.5]])"
   ]
  },
  {
   "cell_type": "code",
   "execution_count": null,
   "id": "a0dcbc56",
   "metadata": {},
   "outputs": [],
   "source": [
    "#case4\n",
    "regressor.predict([[7.2,0.635,0.07,2.6,0.077,16.0,86.0,0.99748,3.51,0.54,9.7]])"
   ]
  },
  {
   "cell_type": "code",
   "execution_count": null,
   "id": "2ec5a7a8",
   "metadata": {},
   "outputs": [],
   "source": [
    "#case5\n",
    "regressor.predict([[7.5,0.410,0.15,3.7,0.104,29.0,94.0,0.99786,3.14,0.58,9.1]])"
   ]
  },
  {
   "cell_type": "code",
   "execution_count": null,
   "id": "ff733429",
   "metadata": {},
   "outputs": [],
   "source": [
    "#case6\n",
    "regressor.predict([[15.9,0.360,0.65,7.5,0.096,22.0,71.0,0.99760,2.98,0.84,14.9]])"
   ]
  },
  {
   "cell_type": "code",
   "execution_count": null,
   "id": "60ff48e9",
   "metadata": {},
   "outputs": [],
   "source": [
    "#case7\n",
    "regressor.predict([[11.4,0.625,0.66,6.2,0.088,6.0,24.0,0.99880,3.11,0.99,13.3]])"
   ]
  },
  {
   "cell_type": "code",
   "execution_count": null,
   "id": "76f23c19",
   "metadata": {},
   "outputs": [],
   "source": [
    "#case8\n",
    "regressor.predict([[8.0,0.300,0.63,1.6,0.081,16.0,29.0,0.99588,3.30,0.78,10.8]])"
   ]
  },
  {
   "cell_type": "code",
   "execution_count": null,
   "id": "30337813",
   "metadata": {},
   "outputs": [],
   "source": [
    "#case9\n",
    "regressor.predict([[6.2,0.580,0.00,1.6,0.065,8.0,18.0,0.99660,3.56,0.84,9.4]])"
   ]
  },
  {
   "cell_type": "code",
   "execution_count": null,
   "id": "ad9493c5",
   "metadata": {},
   "outputs": [],
   "source": [
    "#case10\n",
    "regressor.predict([[5.6,0.605,0.05,2.4,0.073,19.0,25.0,0.99258,3.56,0.55,12.9]])"
   ]
  },
  {
   "cell_type": "code",
   "execution_count": null,
   "id": "a6aec059",
   "metadata": {},
   "outputs": [],
   "source": [
    "from sklearn.metrics import mean_squared_error as msc\n",
    "from math import sqrt\n",
    "rms=sqrt(msc(y_test,y_pred))\n",
    "print(rms)"
   ]
  },
  {
   "cell_type": "code",
   "execution_count": null,
   "id": "e146bae1",
   "metadata": {},
   "outputs": [],
   "source": [
    "from sklearn.metrics import r2_score\n",
    "print('R-Square', r2_score(y_test,y_pred))"
   ]
  },
  {
   "cell_type": "code",
   "execution_count": null,
   "id": "850a7ee9",
   "metadata": {},
   "outputs": [],
   "source": [
    "#Random Forest Regression"
   ]
  },
  {
   "cell_type": "code",
   "execution_count": null,
   "id": "61505e5a",
   "metadata": {},
   "outputs": [],
   "source": [
    "X=dataRF[['fixed acidity','volatile acidity','citric acid','residual sugar','chlorides','free sulfur dioxide',\n",
    "          'total sulfur dioxide', 'density', 'pH', 'sulphates', 'alcohol']]\n",
    "y=dataRF[['quality']]\n",
    "from sklearn.model_selection import train_test_split\n",
    "X_train, X_test, y_train, y_test = train_test_split(X, y, test_size = 0.19, random_state = 0)"
   ]
  },
  {
   "cell_type": "code",
   "execution_count": null,
   "id": "27948da0",
   "metadata": {},
   "outputs": [],
   "source": [
    "from sklearn.ensemble import RandomForestRegressor\n",
    "regressor=RandomForestRegressor(n_estimators=19, random_state=0)\n",
    "regressor.fit(X_train, y_train)\n"
   ]
  },
  {
   "cell_type": "code",
   "execution_count": null,
   "id": "3b965148",
   "metadata": {},
   "outputs": [],
   "source": [
    "y_pred = regressor.predict(X_test)"
   ]
  },
  {
   "cell_type": "code",
   "execution_count": null,
   "id": "17b4d847",
   "metadata": {},
   "outputs": [],
   "source": [
    "#case1\n",
    "regressor.predict([[7.5, 0.770,0.2,8.1,0.098,30.0,92.0,0.99892,3.20,0.58,9.2]])"
   ]
  },
  {
   "cell_type": "code",
   "execution_count": null,
   "id": "bdaffdba",
   "metadata": {},
   "outputs": [],
   "source": [
    "#case2\n",
    "regressor.predict([[6.8,0.570,0.00,2.5,0.072,32.0,64.0,0.99491,3.43,0.56,11.2]])"
   ]
  },
  {
   "cell_type": "code",
   "execution_count": null,
   "id": "97f033c3",
   "metadata": {},
   "outputs": [],
   "source": [
    "#case3\n",
    "regressor.predict([[7.7,0.580,0.01,1.8,0.088,12.0,18.0,0.99568,3.32,0.56,10.5]])"
   ]
  },
  {
   "cell_type": "code",
   "execution_count": null,
   "id": "f9260e09",
   "metadata": {},
   "outputs": [],
   "source": [
    "#case4\n",
    "regressor.predict([[7.2,0.635,0.07,2.6,0.077,16.0,86.0,0.99748,3.51,0.54,9.7]])"
   ]
  },
  {
   "cell_type": "code",
   "execution_count": null,
   "id": "cff4a8f5",
   "metadata": {},
   "outputs": [],
   "source": [
    "#case5\n",
    "regressor.predict([[7.5,0.410,0.15,3.7,0.104,29.0,94.0,0.99786,3.14,0.58,9.1]])"
   ]
  },
  {
   "cell_type": "code",
   "execution_count": null,
   "id": "7b80fdd0",
   "metadata": {},
   "outputs": [],
   "source": [
    "#case6\n",
    "regressor.predict([[15.9,0.360,0.65,7.5,0.096,22.0,71.0,0.99760,2.98,0.84,14.9]])"
   ]
  },
  {
   "cell_type": "code",
   "execution_count": null,
   "id": "db1be766",
   "metadata": {},
   "outputs": [],
   "source": [
    "#case7\n",
    "regressor.predict([[11.4,0.625,0.66,6.2,0.088,6.0,24.0,0.99880,3.11,0.99,13.3]])"
   ]
  },
  {
   "cell_type": "code",
   "execution_count": null,
   "id": "38e2be3f",
   "metadata": {},
   "outputs": [],
   "source": [
    "#case8\n",
    "regressor.predict([[8.0,0.300,0.63,1.6,0.081,16.0,29.0,0.99588,3.30,0.78,10.8]])"
   ]
  },
  {
   "cell_type": "code",
   "execution_count": null,
   "id": "bed7bafc",
   "metadata": {},
   "outputs": [],
   "source": [
    "#case9\n",
    "regressor.predict([[6.2,0.580,0.00,1.6,0.065,8.0,18.0,0.99660,3.56,0.84,9.4]])"
   ]
  },
  {
   "cell_type": "code",
   "execution_count": null,
   "id": "007643c1",
   "metadata": {},
   "outputs": [],
   "source": [
    "#case10\n",
    "regressor.predict([[5.6,0.605,0.05,2.4,0.073,19.0,25.0,0.99258,3.56,0.55,12.9]])"
   ]
  },
  {
   "cell_type": "code",
   "execution_count": null,
   "id": "c8e5908d",
   "metadata": {},
   "outputs": [],
   "source": [
    "from sklearn.metrics import mean_squared_error as msc\n",
    "from math import sqrt\n",
    "rms=sqrt(msc(y_test,y_pred))\n",
    "print(rms)"
   ]
  },
  {
   "cell_type": "code",
   "execution_count": null,
   "id": "52e5f612",
   "metadata": {},
   "outputs": [],
   "source": [
    "from sklearn.metrics import r2_score\n",
    "print('R-Square', r2_score(y_test,y_pred))"
   ]
  },
  {
   "cell_type": "code",
   "execution_count": null,
   "id": "d72bbdaa",
   "metadata": {},
   "outputs": [],
   "source": []
  },
  {
   "cell_type": "code",
   "execution_count": null,
   "id": "e3b9ee93",
   "metadata": {},
   "outputs": [],
   "source": []
  },
  {
   "cell_type": "code",
   "execution_count": null,
   "id": "6b1319e6",
   "metadata": {},
   "outputs": [],
   "source": [
    "\n",
    "#Repeat with different test size"
   ]
  },
  {
   "cell_type": "code",
   "execution_count": null,
   "id": "2b62ac1b",
   "metadata": {},
   "outputs": [],
   "source": [
    "#linear Regression"
   ]
  },
  {
   "cell_type": "code",
   "execution_count": null,
   "id": "31a8cf76",
   "metadata": {},
   "outputs": [],
   "source": [
    "X=dataLR[['fixed acidity','volatile acidity','citric acid','residual sugar','chlorides','free sulfur dioxide',\n",
    "          'total sulfur dioxide', 'density', 'pH', 'sulphates', 'alcohol']]\n",
    "y=dataLR[['quality']]\n",
    "from sklearn.model_selection import train_test_split\n",
    "X_train, X_test, y_train, y_test = train_test_split(X, y, test_size = 0.29, random_state = 0)"
   ]
  },
  {
   "cell_type": "code",
   "execution_count": null,
   "id": "d1aabe29",
   "metadata": {},
   "outputs": [],
   "source": [
    "from sklearn.linear_model import LinearRegression\n",
    "regressor=LinearRegression()\n",
    "regressor.fit(X_train,y_train)"
   ]
  },
  {
   "cell_type": "code",
   "execution_count": null,
   "id": "be42b64a",
   "metadata": {},
   "outputs": [],
   "source": [
    "y_pred=regressor.predict(X_test)"
   ]
  },
  {
   "cell_type": "code",
   "execution_count": null,
   "id": "797ce9a8",
   "metadata": {},
   "outputs": [],
   "source": [
    "#case1\n",
    "regressor.predict([[7.5, 0.770,0.2,8.1,0.098,30.0,92.0,0.99892,3.20,0.58,9.2]])"
   ]
  },
  {
   "cell_type": "code",
   "execution_count": null,
   "id": "bb7f8f49",
   "metadata": {},
   "outputs": [],
   "source": [
    "#case2\n",
    "regressor.predict([[6.8,0.570,0.00,2.5,0.072,32.0,64.0,0.99491,3.43,0.56,11.2]])"
   ]
  },
  {
   "cell_type": "code",
   "execution_count": null,
   "id": "afa05e27",
   "metadata": {},
   "outputs": [],
   "source": [
    "#case3\n",
    "regressor.predict([[7.7,0.580,0.01,1.8,0.088,12.0,18.0,0.99568,3.32,0.56,10.5]])"
   ]
  },
  {
   "cell_type": "code",
   "execution_count": null,
   "id": "9060d264",
   "metadata": {},
   "outputs": [],
   "source": [
    "#case4\n",
    "regressor.predict([[7.2,0.635,0.07,2.6,0.077,16.0,86.0,0.99748,3.51,0.54,9.7]])"
   ]
  },
  {
   "cell_type": "code",
   "execution_count": null,
   "id": "6476ec3f",
   "metadata": {},
   "outputs": [],
   "source": [
    "#case5\n",
    "regressor.predict([[7.5,0.410,0.15,3.7,0.104,29.0,94.0,0.99786,3.14,0.58,9.1]])"
   ]
  },
  {
   "cell_type": "code",
   "execution_count": null,
   "id": "ca760a77",
   "metadata": {},
   "outputs": [],
   "source": [
    "#case6\n",
    "regressor.predict([[15.9,0.360,0.65,7.5,0.096,22.0,71.0,0.99760,2.98,0.84,14.9]])"
   ]
  },
  {
   "cell_type": "code",
   "execution_count": null,
   "id": "63fb0c19",
   "metadata": {},
   "outputs": [],
   "source": [
    "#case7\n",
    "regressor.predict([[11.4,0.625,0.66,6.2,0.088,6.0,24.0,0.99880,3.11,0.99,13.3]])"
   ]
  },
  {
   "cell_type": "code",
   "execution_count": null,
   "id": "5c14399a",
   "metadata": {},
   "outputs": [],
   "source": [
    "#case8\n",
    "regressor.predict([[8.0,0.300,0.63,1.6,0.081,16.0,29.0,0.99588,3.30,0.78,10.8]])"
   ]
  },
  {
   "cell_type": "code",
   "execution_count": null,
   "id": "4c096c42",
   "metadata": {},
   "outputs": [],
   "source": [
    "#case9\n",
    "regressor.predict([[6.2,0.580,0.00,1.6,0.065,8.0,18.0,0.99660,3.56,0.84,9.4]])"
   ]
  },
  {
   "cell_type": "code",
   "execution_count": null,
   "id": "7fcd3475",
   "metadata": {},
   "outputs": [],
   "source": [
    "#case10\n",
    "regressor.predict([[5.6,0.605,0.05,2.4,0.073,19.0,25.0,0.99258,3.56,0.55,12.9]])"
   ]
  },
  {
   "cell_type": "code",
   "execution_count": null,
   "id": "1df40562",
   "metadata": {},
   "outputs": [],
   "source": [
    "from sklearn.metrics import mean_squared_error as msc\n",
    "from math import sqrt\n",
    "rms=sqrt(msc(y_test,y_pred))\n",
    "print(rms)"
   ]
  },
  {
   "cell_type": "code",
   "execution_count": null,
   "id": "1d18a0d9",
   "metadata": {},
   "outputs": [],
   "source": [
    "from sklearn.metrics import r2_score\n",
    "print('R-Square', r2_score(y_test,y_pred))"
   ]
  },
  {
   "cell_type": "code",
   "execution_count": null,
   "id": "6e2f8123",
   "metadata": {},
   "outputs": [],
   "source": [
    "#Support Vector Regression"
   ]
  },
  {
   "cell_type": "code",
   "execution_count": null,
   "id": "cf4e2702",
   "metadata": {},
   "outputs": [],
   "source": [
    "X=dataSVR[['fixed acidity','volatile acidity','citric acid','residual sugar','chlorides','free sulfur dioxide',\n",
    "          'total sulfur dioxide', 'density', 'pH', 'sulphates', 'alcohol']]\n",
    "y=dataSVR[['quality']]\n",
    "from sklearn.model_selection import train_test_split\n",
    "X_train, X_test, y_train, y_test = train_test_split(X, y, test_size = 0.29, random_state = 0)"
   ]
  },
  {
   "cell_type": "code",
   "execution_count": null,
   "id": "11cf3ca3",
   "metadata": {},
   "outputs": [],
   "source": [
    "from sklearn.preprocessing import StandardScaler\n",
    "sc_X=StandardScaler()\n",
    "sc_y=StandardScaler()\n",
    "X_train=sc_X.fit_transform(X_train)\n",
    "y_train=sc_y.fit_transform(y_train)"
   ]
  },
  {
   "cell_type": "code",
   "execution_count": null,
   "id": "4586546f",
   "metadata": {},
   "outputs": [],
   "source": [
    "from sklearn.svm import SVR\n",
    "regressor=SVR(kernel='rbf')\n",
    "regressor.fit(X_train,y_train)"
   ]
  },
  {
   "cell_type": "code",
   "execution_count": null,
   "id": "2c5d9775",
   "metadata": {},
   "outputs": [],
   "source": [
    "y_pred=sc_y.inverse_transform(regressor.predict(sc_X.transform(X_test)).reshape(-1,1))"
   ]
  },
  {
   "cell_type": "code",
   "execution_count": null,
   "id": "72b427b8",
   "metadata": {},
   "outputs": [],
   "source": [
    "#case1\n",
    "sc_y.inverse_transform(regressor.predict(sc_X.transform([[7.5, 0.770,0.2,8.1,0.098,30.0,92.0,0.99892,3.20,0.58,9.2]])).reshape(-1,1))"
   ]
  },
  {
   "cell_type": "code",
   "execution_count": null,
   "id": "a0641d3c",
   "metadata": {},
   "outputs": [],
   "source": [
    "#case2\n",
    "sc_y.inverse_transform(regressor.predict(sc_X.transform([[6.8,0.570,0.00,2.5,0.072,32.0,64.0,0.99491,3.43,0.56,11.2]])).reshape(-1,1))"
   ]
  },
  {
   "cell_type": "code",
   "execution_count": null,
   "id": "e48c7a9f",
   "metadata": {},
   "outputs": [],
   "source": [
    "#case3\n",
    "sc_y.inverse_transform(regressor.predict(sc_X.transform([[7.7,0.580,0.01,1.8,0.088,12.0,18.0,0.99568,3.32,0.56,10.5]])).reshape(-1,1))"
   ]
  },
  {
   "cell_type": "code",
   "execution_count": null,
   "id": "06dabcc1",
   "metadata": {},
   "outputs": [],
   "source": [
    "#case4\n",
    "sc_y.inverse_transform(regressor.predict(sc_X.transform([[7.2,0.635,0.07,2.6,0.077,16.0,86.0,0.99748,3.51,0.54,9.7]])).reshape(-1,1))"
   ]
  },
  {
   "cell_type": "code",
   "execution_count": null,
   "id": "b3e0b704",
   "metadata": {},
   "outputs": [],
   "source": [
    "#case 5\n",
    "sc_y.inverse_transform(regressor.predict(sc_X.transform([[7.5,0.410,0.15,3.7,0.104,29.0,94.0,0.99786,3.14,0.58,9.1]])).reshape(-1,1))"
   ]
  },
  {
   "cell_type": "code",
   "execution_count": null,
   "id": "3f7c1277",
   "metadata": {},
   "outputs": [],
   "source": [
    "#case6\n",
    "sc_y.inverse_transform(regressor.predict(sc_X.transform([[15.9,0.360,0.65,7.5,0.096,22.0,71.0,0.99760,2.98,0.84,14.9]])).reshape(-1,1))"
   ]
  },
  {
   "cell_type": "code",
   "execution_count": null,
   "id": "270a06dd",
   "metadata": {},
   "outputs": [],
   "source": [
    "#case7\n",
    "sc_y.inverse_transform(regressor.predict(sc_X.transform([[11.4,0.625,0.66,6.2,0.088,6.0,24.0,0.99880,3.11,0.99,13.3]])).reshape(-1,1))"
   ]
  },
  {
   "cell_type": "code",
   "execution_count": null,
   "id": "0e509ae3",
   "metadata": {},
   "outputs": [],
   "source": [
    "#case8\n",
    "sc_y.inverse_transform(regressor.predict(sc_X.transform([[8.0,0.300,0.63,1.6,0.081,16.0,29.0,0.99588,3.30,0.78,10.8]])).reshape(-1,1))"
   ]
  },
  {
   "cell_type": "code",
   "execution_count": null,
   "id": "d3d00d2a",
   "metadata": {},
   "outputs": [],
   "source": [
    "#case9\n",
    "sc_y.inverse_transform(regressor.predict(sc_X.transform([[6.2,0.580,0.00,1.6,0.065,8.0,18.0,0.99660,3.56,0.84,9.4]])).reshape(-1,1))"
   ]
  },
  {
   "cell_type": "code",
   "execution_count": null,
   "id": "5a16cb39",
   "metadata": {},
   "outputs": [],
   "source": [
    "#case10\n",
    "sc_y.inverse_transform(regressor.predict(sc_X.transform([[5.6,0.605,0.05,2.4,0.073,19.0,25.0,0.99258,3.56,0.55,12.9]])).reshape(-1,1))"
   ]
  },
  {
   "cell_type": "code",
   "execution_count": null,
   "id": "cc7cf850",
   "metadata": {},
   "outputs": [],
   "source": [
    "from sklearn.metrics import mean_squared_error as msc\n",
    "from math import sqrt\n",
    "rms=sqrt(msc(y_test,y_pred))\n",
    "print(rms)\n"
   ]
  },
  {
   "cell_type": "code",
   "execution_count": null,
   "id": "ceb9a8a3",
   "metadata": {},
   "outputs": [],
   "source": [
    "from sklearn.metrics import r2_score\n",
    "print('R-Square', r2_score(y_test,y_pred))"
   ]
  },
  {
   "cell_type": "code",
   "execution_count": null,
   "id": "5cbed8bb",
   "metadata": {},
   "outputs": [],
   "source": [
    "#decision tree"
   ]
  },
  {
   "cell_type": "code",
   "execution_count": null,
   "id": "ba1e08b5",
   "metadata": {},
   "outputs": [],
   "source": [
    "dataDT.head()"
   ]
  },
  {
   "cell_type": "code",
   "execution_count": null,
   "id": "7fc2f5c8",
   "metadata": {},
   "outputs": [],
   "source": [
    "X=dataDT[['fixed acidity','volatile acidity','citric acid','residual sugar','chlorides','free sulfur dioxide',\n",
    "          'total sulfur dioxide', 'density', 'pH', 'sulphates', 'alcohol']]\n",
    "y=dataDT[['quality']]\n",
    "from sklearn.model_selection import train_test_split\n",
    "X_train, X_test, y_train, y_test = train_test_split(X, y, test_size = 0.29, random_state = 0)"
   ]
  },
  {
   "cell_type": "code",
   "execution_count": null,
   "id": "b159d466",
   "metadata": {},
   "outputs": [],
   "source": [
    "from sklearn.tree import DecisionTreeRegressor\n",
    "from sklearn.tree import plot_tree\n",
    "regressor=DecisionTreeRegressor(random_state=0)\n",
    "regressor.fit(X_train,y_train)"
   ]
  },
  {
   "cell_type": "code",
   "execution_count": null,
   "id": "e0fdeaf7",
   "metadata": {},
   "outputs": [],
   "source": [
    "y_pred=regressor.predict(X_test)"
   ]
  },
  {
   "cell_type": "code",
   "execution_count": null,
   "id": "e20fd639",
   "metadata": {},
   "outputs": [],
   "source": [
    "#case1\n",
    "regressor.predict([[7.5, 0.770,0.2,8.1,0.098,30.0,92.0,0.99892,3.20,0.58,9.2]])"
   ]
  },
  {
   "cell_type": "code",
   "execution_count": null,
   "id": "0bbabac0",
   "metadata": {},
   "outputs": [],
   "source": [
    "#case2\n",
    "regressor.predict([[6.8,0.570,0.00,2.5,0.072,32.0,64.0,0.99491,3.43,0.56,11.2]])"
   ]
  },
  {
   "cell_type": "code",
   "execution_count": null,
   "id": "4e8c9a40",
   "metadata": {},
   "outputs": [],
   "source": [
    "#case3\n",
    "regressor.predict([[7.7,0.580,0.01,1.8,0.088,12.0,18.0,0.99568,3.32,0.56,10.5]])"
   ]
  },
  {
   "cell_type": "code",
   "execution_count": null,
   "id": "87dca73b",
   "metadata": {},
   "outputs": [],
   "source": [
    "#case4\n",
    "regressor.predict([[7.2,0.635,0.07,2.6,0.077,16.0,86.0,0.99748,3.51,0.54,9.7]])"
   ]
  },
  {
   "cell_type": "code",
   "execution_count": null,
   "id": "390c9c4b",
   "metadata": {},
   "outputs": [],
   "source": [
    "#case5\n",
    "regressor.predict([[7.5,0.410,0.15,3.7,0.104,29.0,94.0,0.99786,3.14,0.58,9.1]])"
   ]
  },
  {
   "cell_type": "code",
   "execution_count": null,
   "id": "3100d6de",
   "metadata": {},
   "outputs": [],
   "source": [
    "#case6\n",
    "regressor.predict([[15.9,0.360,0.65,7.5,0.096,22.0,71.0,0.99760,2.98,0.84,14.9]])"
   ]
  },
  {
   "cell_type": "code",
   "execution_count": null,
   "id": "44e4f8b3",
   "metadata": {},
   "outputs": [],
   "source": [
    "#case7\n",
    "regressor.predict([[11.4,0.625,0.66,6.2,0.088,6.0,24.0,0.99880,3.11,0.99,13.3]])"
   ]
  },
  {
   "cell_type": "code",
   "execution_count": null,
   "id": "6a08b5c8",
   "metadata": {},
   "outputs": [],
   "source": [
    "#case8\n",
    "regressor.predict([[8.0,0.300,0.63,1.6,0.081,16.0,29.0,0.99588,3.30,0.78,10.8]])"
   ]
  },
  {
   "cell_type": "code",
   "execution_count": null,
   "id": "00e64a7c",
   "metadata": {},
   "outputs": [],
   "source": [
    "#case9\n",
    "regressor.predict([[6.2,0.580,0.00,1.6,0.065,8.0,18.0,0.99660,3.56,0.84,9.4]])"
   ]
  },
  {
   "cell_type": "code",
   "execution_count": null,
   "id": "9d0b01e6",
   "metadata": {},
   "outputs": [],
   "source": [
    "#case10\n",
    "regressor.predict([[5.6,0.605,0.05,2.4,0.073,19.0,25.0,0.99258,3.56,0.55,12.9]])"
   ]
  },
  {
   "cell_type": "code",
   "execution_count": null,
   "id": "74d693cb",
   "metadata": {},
   "outputs": [],
   "source": [
    "from sklearn.metrics import mean_squared_error as msc\n",
    "from math import sqrt\n",
    "rms=sqrt(msc(y_test,y_pred))\n",
    "print(rms)"
   ]
  },
  {
   "cell_type": "code",
   "execution_count": null,
   "id": "5dc1e594",
   "metadata": {},
   "outputs": [],
   "source": [
    "from sklearn.metrics import r2_score\n",
    "print('R-Square', r2_score(y_test,y_pred))"
   ]
  },
  {
   "cell_type": "code",
   "execution_count": null,
   "id": "eb553d96",
   "metadata": {},
   "outputs": [],
   "source": [
    "#Random Forest Regression"
   ]
  },
  {
   "cell_type": "code",
   "execution_count": null,
   "id": "7cbc1438",
   "metadata": {},
   "outputs": [],
   "source": [
    "X=dataRF[['fixed acidity','volatile acidity','citric acid','residual sugar','chlorides','free sulfur dioxide',\n",
    "          'total sulfur dioxide', 'density', 'pH', 'sulphates', 'alcohol']]\n",
    "y=dataRF[['quality']]\n",
    "from sklearn.model_selection import train_test_split\n",
    "X_train, X_test, y_train, y_test = train_test_split(X, y, test_size = 0.29, random_state = 0)"
   ]
  },
  {
   "cell_type": "code",
   "execution_count": null,
   "id": "27afca81",
   "metadata": {},
   "outputs": [],
   "source": [
    "from sklearn.ensemble import RandomForestRegressor\n",
    "regressor=RandomForestRegressor(n_estimators=29, random_state=0)\n",
    "regressor.fit(X_train, y_train)\n"
   ]
  },
  {
   "cell_type": "code",
   "execution_count": null,
   "id": "acecd31d",
   "metadata": {},
   "outputs": [],
   "source": [
    "y_pred = regressor.predict(X_test)"
   ]
  },
  {
   "cell_type": "code",
   "execution_count": null,
   "id": "d45cfa0b",
   "metadata": {},
   "outputs": [],
   "source": [
    "#case1\n",
    "regressor.predict([[7.5, 0.770,0.2,8.1,0.098,30.0,92.0,0.99892,3.20,0.58,9.2]])"
   ]
  },
  {
   "cell_type": "code",
   "execution_count": null,
   "id": "1590524a",
   "metadata": {},
   "outputs": [],
   "source": [
    "#case2\n",
    "regressor.predict([[6.8,0.570,0.00,2.5,0.072,32.0,64.0,0.99491,3.43,0.56,11.2]])"
   ]
  },
  {
   "cell_type": "code",
   "execution_count": null,
   "id": "3cb905bc",
   "metadata": {},
   "outputs": [],
   "source": [
    "#case3\n",
    "regressor.predict([[7.7,0.580,0.01,1.8,0.088,12.0,18.0,0.99568,3.32,0.56,10.5]])"
   ]
  },
  {
   "cell_type": "code",
   "execution_count": null,
   "id": "81ef3076",
   "metadata": {},
   "outputs": [],
   "source": [
    "#case4\n",
    "regressor.predict([[7.2,0.635,0.07,2.6,0.077,16.0,86.0,0.99748,3.51,0.54,9.7]])"
   ]
  },
  {
   "cell_type": "code",
   "execution_count": null,
   "id": "92242490",
   "metadata": {},
   "outputs": [],
   "source": [
    "#case5\n",
    "regressor.predict([[7.5,0.410,0.15,3.7,0.104,29.0,94.0,0.99786,3.14,0.58,9.1]])"
   ]
  },
  {
   "cell_type": "code",
   "execution_count": null,
   "id": "b1f2243f",
   "metadata": {},
   "outputs": [],
   "source": [
    "#case6\n",
    "regressor.predict([[15.9,0.360,0.65,7.5,0.096,22.0,71.0,0.99760,2.98,0.84,14.9]])"
   ]
  },
  {
   "cell_type": "code",
   "execution_count": null,
   "id": "8f75ac33",
   "metadata": {},
   "outputs": [],
   "source": [
    "#case7\n",
    "regressor.predict([[11.4,0.625,0.66,6.2,0.088,6.0,24.0,0.99880,3.11,0.99,13.3]])"
   ]
  },
  {
   "cell_type": "code",
   "execution_count": null,
   "id": "020387f4",
   "metadata": {},
   "outputs": [],
   "source": [
    "#case8\n",
    "regressor.predict([[8.0,0.300,0.63,1.6,0.081,16.0,29.0,0.99588,3.30,0.78,10.8]])"
   ]
  },
  {
   "cell_type": "code",
   "execution_count": null,
   "id": "8e2900cc",
   "metadata": {},
   "outputs": [],
   "source": [
    "#case9\n",
    "regressor.predict([[6.2,0.580,0.00,1.6,0.065,8.0,18.0,0.99660,3.56,0.84,9.4]])"
   ]
  },
  {
   "cell_type": "code",
   "execution_count": null,
   "id": "e588d9e3",
   "metadata": {},
   "outputs": [],
   "source": [
    "#case10\n",
    "regressor.predict([[5.6,0.605,0.05,2.4,0.073,19.0,25.0,0.99258,3.56,0.55,12.9]])"
   ]
  },
  {
   "cell_type": "code",
   "execution_count": null,
   "id": "51e7ddfe",
   "metadata": {},
   "outputs": [],
   "source": [
    "from sklearn.metrics import mean_squared_error as msc\n",
    "from math import sqrt\n",
    "rms=sqrt(msc(y_test,y_pred))\n",
    "print(rms)"
   ]
  },
  {
   "cell_type": "code",
   "execution_count": null,
   "id": "dcdb2ed2",
   "metadata": {},
   "outputs": [],
   "source": [
    "from sklearn.metrics import r2_score\n",
    "print('R-Square', r2_score(y_test,y_pred))"
   ]
  },
  {
   "cell_type": "code",
   "execution_count": null,
   "id": "0d6c74a1",
   "metadata": {},
   "outputs": [],
   "source": []
  },
  {
   "cell_type": "code",
   "execution_count": null,
   "id": "bb201f01",
   "metadata": {},
   "outputs": [],
   "source": []
  }
 ],
 "metadata": {
  "kernelspec": {
   "display_name": "Python 3",
   "language": "python",
   "name": "python3"
  },
  "language_info": {
   "codemirror_mode": {
    "name": "ipython",
    "version": 3
   },
   "file_extension": ".py",
   "mimetype": "text/x-python",
   "name": "python",
   "nbconvert_exporter": "python",
   "pygments_lexer": "ipython3",
   "version": "3.8.8"
  }
 },
 "nbformat": 4,
 "nbformat_minor": 5
}
